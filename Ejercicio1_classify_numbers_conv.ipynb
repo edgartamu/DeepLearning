{
  "nbformat": 4,
  "nbformat_minor": 0,
  "metadata": {
    "colab": {
      "name": "Ejercicio1_classify_numbers_conv.ipynb",
      "provenance": [],
      "collapsed_sections": [],
      "authorship_tag": "ABX9TyPDZjNfVFUi/5MO2DF6RXhG",
      "include_colab_link": true
    },
    "kernelspec": {
      "name": "python3",
      "display_name": "Python 3"
    },
    "language_info": {
      "name": "python"
    }
  },
  "cells": [
    {
      "cell_type": "markdown",
      "metadata": {
        "id": "view-in-github",
        "colab_type": "text"
      },
      "source": [
        "<a href=\"https://colab.research.google.com/github/edgartamu/DeepLearning/blob/main/Ejercicio1_classify_numbers_conv.ipynb\" target=\"_parent\"><img src=\"https://colab.research.google.com/assets/colab-badge.svg\" alt=\"Open In Colab\"/></a>"
      ]
    },
    {
      "cell_type": "markdown",
      "metadata": {
        "id": "gd62ecXytn2N"
      },
      "source": [
        "# **Recognition of written numbers**\n",
        "In this workbook, we will build a neural network that recognizes written numbers from 0 to 9.\n",
        "\n",
        "This type of neural network is used in a variety of real-world applications, including: phone number recognition and sorting postal mail by address. To build the network, we will use the MNIST dataset, which consists of images of handwritten numbers and their correct labels from 0 to 9.\n",
        "\n",
        "We will use keras, a high-level library built on top of TensorFlow to build the neural network. We will start by importing all the modules we will need, then load the data and finally build the network."
      ]
    },
    {
      "cell_type": "code",
      "metadata": {
        "id": "FNcFrAYJteEz"
      },
      "source": [
        "import numpy as np\n",
        "import tensorflow as tf\n",
        "from keras.models import Sequential, Model\n",
        "from keras.layers import Dense, Input, Flatten\n",
        "from keras.datasets import mnist\n",
        "from sklearn.metrics import confusion_matrix, classification_report\n",
        "import matplotlib.pyplot as plt\n",
        "%matplotlib inline\n",
        "\n",
        "from keras.utils.np_utils import to_categorical"
      ],
      "execution_count": null,
      "outputs": []
    },
    {
      "cell_type": "markdown",
      "metadata": {
        "id": "Co5MIc6auDPj"
      },
      "source": [
        "# **Preparation of training and test data**.\n",
        "\n",
        "The MNIST dataset already contains training and test data. There are 55,000 training data points and 10,000 test data points.\n",
        "\n",
        "Each MNIST data point has an image of a handwritten digit and a corresponding label (a number 0-9).\n",
        "a corresponding label (a number 0-9 that identifies the image).\n",
        "We will call the images, which will be the input to our neural network, X and their corresponding Y labels.\n",
        "\n",
        "We will want our labels to be one-hit vectors, i.e., vectors containing mostly 0's and one 1. It is easier to see this in an example. As a one-hit vector, the number 0 is represented as [1, 0, 0, 0, 0, 0, 0, 0, 0, 0, 0, 0], and 4 is represented as [0, 0, 0, 0, 0, 0, 1, 0, 0, 0, 0, 0].\n",
        "\n",
        "\n",
        "# Flattened data\n",
        "For this example, we will use flattened data or a representation of the MNIST images in one dimension instead of two. Thus, each handwritten number image, which has 28x28 pixels, will be represented as a one-dimensional array of 784 pixel values.\n",
        "\n",
        "Flattening the data removes information about the 2D structure of the image, but simplifies our data so that all the training data can be contained in a matrix whose shape is [55000, 784]; the first dimension is the number of training images and the second is the number of pixels in each image. This is the type of data that is easy to analyze using a simple neural network.\n",
        "Recognition of written numbers\n"
      ]
    },
    {
      "cell_type": "code",
      "metadata": {
        "id": "aVetL8D9uCZl"
      },
      "source": [
        "# Cargamos los datos de train y test\n",
        "(trainX, trainY), (testX, testY) = mnist.load_data()"
      ],
      "execution_count": null,
      "outputs": []
    },
    {
      "cell_type": "markdown",
      "metadata": {
        "id": "9sDfwLvYvReo"
      },
      "source": [
        "**Enter the code required to display the size of the data obtained** "
      ]
    },
    {
      "cell_type": "code",
      "metadata": {
        "id": "nhz-eLjEujno",
        "colab": {
          "base_uri": "https://localhost:8080/"
        },
        "outputId": "19c95ef6-2ef1-4938-d57b-a37b70c98ac6"
      },
      "source": [
        "print (\"Tamaño de trainX: \", trainX.shape)\n",
        "print (\"Tamaño de trainY: \", trainY.shape)\n",
        "print (\"Tamaño de testX: \", testX.shape)\n",
        "print (\"Tamaño de testY: \", testY.shape)"
      ],
      "execution_count": null,
      "outputs": [
        {
          "output_type": "stream",
          "name": "stdout",
          "text": [
            "Tamaño de trainX:  (60000, 28, 28)\n",
            "Tamaño de trainY:  (60000,)\n",
            "Tamaño de testX:  (10000, 28, 28)\n",
            "Tamaño de testY:  (10000,)\n"
          ]
        }
      ]
    },
    {
      "cell_type": "markdown",
      "metadata": {
        "id": "pPZxh30KvbyM"
      },
      "source": [
        "# **Viewing training data**\n",
        "Below is a function that will help you visualize MNIST data. When passing the index of a training example, the show_digit function will display that training image along with its corresponding title tag."
      ]
    },
    {
      "cell_type": "code",
      "metadata": {
        "colab": {
          "base_uri": "https://localhost:8080/",
          "height": 281
        },
        "id": "NOrVb4NzvrPY",
        "outputId": "7d811179-f37c-4be1-f896-6b930129e547"
      },
      "source": [
        "#Función para visualizar los datos que acabamos de cargar\n",
        "def display_digit(index):\n",
        "    label = trainY[index].argmax(axis=0)\n",
        "    # Reshape 784 array into 28x28 image\n",
        "    image = trainX[index].reshape([28,28])\n",
        "    plt.title('Training data, index: %d,  Label: %d' % (index, label))\n",
        "    plt.imshow(image, cmap='gray_r')\n",
        "    plt.show()\n",
        "    \n",
        "# Visualizamos el dígito que queramos pasando una posicióndel array\n",
        "display_digit(2)"
      ],
      "execution_count": null,
      "outputs": [
        {
          "output_type": "display_data",
          "data": {
            "image/png": "[encoded data removed]",
            "text/plain": [
              "<Figure size 432x288 with 1 Axes>"
            ]
          },
          "metadata": {
            "needs_background": "light"
          }
        }
      ]
    },
    {
      "cell_type": "markdown",
      "metadata": {
        "id": "vU55P7RRw-TN"
      },
      "source": [
        "# **MLP Model**"
      ]
    },
    {
      "cell_type": "code",
      "metadata": {
        "colab": {
          "base_uri": "https://localhost:8080/"
        },
        "id": "zWE3Ok-fjOyo",
        "outputId": "4253aabe-5caa-4490-88f0-ef2330e6f80a"
      },
      "source": [
        "num_pixels = trainX.shape[1] * trainX.shape[2] # 28*28\n",
        "trainX = trainX.reshape(trainX.shape[0], num_pixels).astype('float32')\n",
        "testX = testX.reshape(testX.shape[0], num_pixels).astype('float32')\n",
        "trainX.shape\n"
      ],
      "execution_count": null,
      "outputs": [
        {
          "output_type": "execute_result",
          "data": {
            "text/plain": [
              "(60000, 784)"
            ]
          },
          "metadata": {},
          "execution_count": 25
        }
      ]
    },
    {
      "cell_type": "code",
      "metadata": {
        "colab": {
          "base_uri": "https://localhost:8080/"
        },
        "id": "dZD3HmEIjvjw",
        "outputId": "1b687be6-3e04-4802-a99a-24fbb989f2c5"
      },
      "source": [
        "#Normalize [0..1]\n",
        "trainX = trainX / 255\n",
        "testX = testX / 255\n",
        "\n",
        "# one hot encoding for labels\n",
        "trainY = to_categorical(trainY)\n",
        "testY = to_categorical(testY)\n",
        "num_classes = testY.shape[1]\n",
        "\n",
        "testY.shape"
      ],
      "execution_count": null,
      "outputs": [
        {
          "output_type": "execute_result",
          "data": {
            "text/plain": [
              "(10000, 10)"
            ]
          },
          "metadata": {},
          "execution_count": 23
        }
      ]
    },
    {
      "cell_type": "code",
      "metadata": {
        "id": "HoxX2CS0vzwq"
      },
      "source": [
        "# Nuestro modelo\n",
        "def build_model():\n",
        "    # Con esta linea se resetean todos los parametros y variables\n",
        "    tf.compat.v1.reset_default_graph()\n",
        "    \n",
        "    #### Your code ####\n",
        "    model = Sequential()\n",
        "    model.add(Flatten(x,), ) #capa de entrada / flatten\n",
        "    model.add(Dense(512 ))\n",
        "    model.add(Dense(num_pixels, input_dim=num_pixels, activation='relu'))\n",
        "    model.add(Dense(num_classes, activation='softmax'))\n",
        "    # Compilamos el modelo\n",
        "    model.compile(loss='categorical_crossentropy', optimizer='adam', metrics=['accuracy'])\n",
        "    return model"
      ],
      "execution_count": null,
      "outputs": []
    },
    {
      "cell_type": "markdown",
      "metadata": {
        "id": "CYw1byIny9PU"
      },
      "source": [
        "# **Training**"
      ]
    },
    {
      "cell_type": "code",
      "metadata": {
        "id": "oS_HfWvA2YBc",
        "colab": {
          "base_uri": "https://localhost:8080/"
        },
        "outputId": "57ef3be1-031d-43a1-bb53-8b206d21b1c2"
      },
      "source": [
        "# construye el modelo\n",
        "model = build_model()\n",
        "model.summary()\n",
        "\n",
        "model.fit(trainX, trainY, validation_data=(testX, testY), epochs=10, batch_size=128, verbose=2)\n",
        "\n",
        "\n",
        "scores = model.evaluate(testX, testY, verbose=0)\n",
        "print(\"Error: %.2f%%\" % (100-scores[1]*100))"
      ],
      "execution_count": null,
      "outputs": [
        {
          "output_type": "stream",
          "name": "stdout",
          "text": [
            "Model: \"model\"\n",
            "_________________________________________________________________\n",
            "Layer (type)                 Output Shape              Param #   \n",
            "=================================================================\n",
            "input_1 (InputLayer)         [(None, 784)]             0         \n",
            "_________________________________________________________________\n",
            "dense (Dense)                (None, 784)               615440    \n",
            "_________________________________________________________________\n",
            "dense_1 (Dense)              (None, 10)                7850      \n",
            "=================================================================\n",
            "Total params: 623,290\n",
            "Trainable params: 623,290\n",
            "Non-trainable params: 0\n",
            "_________________________________________________________________\n",
            "Epoch 1/10\n",
            "469/469 - 5s - loss: 0.2476 - accuracy: 0.9284 - val_loss: 0.1232 - val_accuracy: 0.9620\n",
            "Epoch 2/10\n",
            "469/469 - 5s - loss: 0.0976 - accuracy: 0.9720 - val_loss: 0.0852 - val_accuracy: 0.9728\n",
            "Epoch 3/10\n",
            "469/469 - 5s - loss: 0.0617 - accuracy: 0.9815 - val_loss: 0.0681 - val_accuracy: 0.9785\n",
            "Epoch 4/10\n",
            "469/469 - 5s - loss: 0.0424 - accuracy: 0.9870 - val_loss: 0.0571 - val_accuracy: 0.9824\n",
            "Epoch 5/10\n",
            "469/469 - 5s - loss: 0.0287 - accuracy: 0.9921 - val_loss: 0.0546 - val_accuracy: 0.9821\n",
            "Epoch 6/10\n",
            "469/469 - 5s - loss: 0.0221 - accuracy: 0.9936 - val_loss: 0.0672 - val_accuracy: 0.9784\n",
            "Epoch 7/10\n",
            "469/469 - 5s - loss: 0.0158 - accuracy: 0.9958 - val_loss: 0.0615 - val_accuracy: 0.9811\n",
            "Epoch 8/10\n",
            "469/469 - 5s - loss: 0.0115 - accuracy: 0.9969 - val_loss: 0.0656 - val_accuracy: 0.9805\n",
            "Epoch 9/10\n",
            "469/469 - 5s - loss: 0.0079 - accuracy: 0.9981 - val_loss: 0.0605 - val_accuracy: 0.9833\n",
            "Epoch 10/10\n",
            "469/469 - 5s - loss: 0.0072 - accuracy: 0.9983 - val_loss: 0.0624 - val_accuracy: 0.9827\n",
            "Error: 1.73%\n"
          ]
        }
      ]
    },
    {
      "cell_type": "markdown",
      "metadata": {
        "id": "zf672cs82bmw"
      },
      "source": [
        "\n",
        "# **Testing**\n"
      ]
    },
    {
      "cell_type": "code",
      "metadata": {
        "id": "GtqwCVLL24Vq",
        "colab": {
          "base_uri": "https://localhost:8080/"
        },
        "outputId": "c1cbec19-9a40-477b-d491-69075c2cc47f"
      },
      "source": [
        "# Comparar los resultados obtenidos de la predicción del modelo con las clases reales \n",
        "# Con la función argmax lo que hacemos es obtener el índice con mayor valor del array (en este caso de un array [ 0  0.2  0.2 0.1 0.5] obtendriamos un 4)\n",
        "predictions = np.array(model.predict(testX)).argmax(axis=1)\n",
        "\n",
        "# Igual ocurre con las clases reales, lo traducimos de array a valor numérico y sacamos la media de aciertos\n",
        "actual = testY.argmax(axis=1)\n",
        "test_accuracy = np.mean(predictions == actual, axis=0)\n",
        "\n",
        "# Print out the result\n",
        "print(\"Test accuracy: \", test_accuracy)"
      ],
      "execution_count": null,
      "outputs": [
        {
          "output_type": "stream",
          "name": "stdout",
          "text": [
            "Test accuracy:  0.9804\n"
          ]
        }
      ]
    },
    {
      "cell_type": "markdown",
      "metadata": {
        "id": "CSC_w9-Do1az"
      },
      "source": [
        "**Confusion matrix**"
      ]
    },
    {
      "cell_type": "code",
      "metadata": {
        "colab": {
          "base_uri": "https://localhost:8080/"
        },
        "id": "I5Ep0K_gohNK",
        "outputId": "e5f84df5-e3be-4680-a6ae-f48783d42e97"
      },
      "source": [
        "y_pred = model.predict(testX)\n",
        "y_pred = np.argmax(y_pred, axis=1)\n",
        "\n",
        "confusion_matrix = confusion_matrix(y_true=testY.argmax(axis=1), y_pred=y_pred)\n",
        "confusion_matrix"
      ],
      "execution_count": null,
      "outputs": [
        {
          "output_type": "execute_result",
          "data": {
            "text/plain": [
              "array([[ 972,    0,    1,    0,    2,    0,    1,    1,    2,    1],\n",
              "       [   0, 1125,    4,    0,    0,    1,    2,    2,    1,    0],\n",
              "       [   1,    0, 1017,    0,    1,    0,    2,    8,    2,    1],\n",
              "       [   0,    0,    6,  978,    0,    9,    0,    5,    1,   11],\n",
              "       [   0,    0,    4,    0,  967,    0,    3,    2,    0,    6],\n",
              "       [   2,    0,    0,    2,    1,  877,    2,    2,    3,    3],\n",
              "       [   4,    2,    4,    1,    4,    2,  940,    1,    0,    0],\n",
              "       [   0,    1,   10,    1,    0,    0,    0, 1010,    1,    5],\n",
              "       [   5,    0,    8,    5,    4,    5,    0,    7,  932,    8],\n",
              "       [   3,    2,    0,    2,    5,    1,    0,    9,    1,  986]])"
            ]
          },
          "metadata": {},
          "execution_count": 41
        }
      ]
    },
    {
      "cell_type": "markdown",
      "metadata": {
        "id": "frz4trLNpMb0"
      },
      "source": [
        "**Quality measures**"
      ]
    },
    {
      "cell_type": "code",
      "metadata": {
        "colab": {
          "base_uri": "https://localhost:8080/"
        },
        "id": "NHKCWbm6ojZT",
        "outputId": "a0e1a80d-76b7-4c95-b2b2-517c66a13794"
      },
      "source": [
        "#MEDIDAS DE CALIDAD\n",
        "snn_report = classification_report(np.argmax(testY, axis=1), y_pred)  \n",
        "print(snn_report)"
      ],
      "execution_count": null,
      "outputs": [
        {
          "output_type": "stream",
          "name": "stdout",
          "text": [
            "              precision    recall  f1-score   support\n",
            "\n",
            "           0       0.98      0.99      0.99       980\n",
            "           1       1.00      0.99      0.99      1135\n",
            "           2       0.96      0.99      0.98      1032\n",
            "           3       0.99      0.97      0.98      1010\n",
            "           4       0.98      0.98      0.98       982\n",
            "           5       0.98      0.98      0.98       892\n",
            "           6       0.99      0.98      0.99       958\n",
            "           7       0.96      0.98      0.97      1028\n",
            "           8       0.99      0.96      0.97       974\n",
            "           9       0.97      0.98      0.97      1009\n",
            "\n",
            "    accuracy                           0.98     10000\n",
            "   macro avg       0.98      0.98      0.98     10000\n",
            "weighted avg       0.98      0.98      0.98     10000\n",
            "\n"
          ]
        }
      ]
    },
    {
      "cell_type": "markdown",
      "metadata": {
        "id": "6-Tyu4jqdoVK"
      },
      "source": [
        "## Exercise 1 - Convolutional Networks\n",
        "\n",
        "For this exercise, as shown in the rest of the notebook, we have an MLP network for classification.\n",
        "Based on the MLP network we are going to design a convolutional network to try to improve the accuracy of the results. To do this we are asked to:\n",
        "\n",
        "\n",
        "1.   Generate and train a convolutional network.\n",
        "2.   Compare the results obtained with the MLP network.\n",
        "\n",
        "\n",
        "\n"
      ]
    },
    {
      "cell_type": "code",
      "metadata": {
        "id": "hv6u1bEMeKUY"
      },
      "source": [
        ""
      ],
      "execution_count": null,
      "outputs": []
    }
  ]
}
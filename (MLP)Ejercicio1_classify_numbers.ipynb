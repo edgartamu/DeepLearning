{
  "nbformat": 4,
  "nbformat_minor": 0,
  "metadata": {
    "colab": {
      "name": "(MLP)Ejercicio1_classify_numbers.ipynb",
      "provenance": [],
      "collapsed_sections": [],
      "authorship_tag": "ABX9TyNwCZNyHrW4EyDtRPh0uYpu",
      "include_colab_link": true
    },
    "kernelspec": {
      "name": "python3",
      "display_name": "Python 3"
    },
    "language_info": {
      "name": "python"
    }
  },
  "cells": [
    {
      "cell_type": "markdown",
      "metadata": {
        "id": "view-in-github",
        "colab_type": "text"
      },
      "source": [
        "<a href=\"https://colab.research.google.com/github/edgartamu/DeepLearning/blob/main/(MLP)Ejercicio1_classify_numbers.ipynb\" target=\"_parent\"><img src=\"https://colab.research.google.com/assets/colab-badge.svg\" alt=\"Open In Colab\"/></a>"
      ]
    },
    {
      "cell_type": "markdown",
      "metadata": {
        "id": "gd62ecXytn2N"
      },
      "source": [
        "# **Reconocimiento de números escritos**\n",
        "En este cuaderno, construiremos una red neuronal que reconozca los números escritos del 0 al 9.\n",
        "\n",
        "Este tipo de red neuronal se utiliza en una variedad de aplicaciones del mundo real, incluyendo: el reconocimiento de números de teléfono y la clasificación del correo postal por dirección. Para construir la red, utilizaremos el conjunto de datos MNIST, que consiste en imágenes de números escritos a mano y sus etiquetas correctas del 0 al 9.\n",
        "\n",
        "Utilizaremos keras, una biblioteca de alto nivel construida sobre TensorFlow para construir la red neuronal. Empezaremos importando todos los módulos que necesitaremos, luego cargaremos los datos y finalmente construiremos la red."
      ]
    },
    {
      "cell_type": "code",
      "metadata": {
        "id": "FNcFrAYJteEz"
      },
      "source": [
        "import numpy as np\n",
        "import tensorflow as tf\n",
        "from keras.models import Sequential, Model\n",
        "from keras.layers import Dense, Input, Flatten\n",
        "from keras.datasets import mnist\n",
        "from sklearn.metrics import confusion_matrix\n",
        "import matplotlib.pyplot as plt\n",
        "%matplotlib inline"
      ],
      "execution_count": null,
      "outputs": []
    },
    {
      "cell_type": "markdown",
      "metadata": {
        "id": "Co5MIc6auDPj"
      },
      "source": [
        "# **Preparación de los datos de entrenamiento y de prueba**\n",
        "\n",
        "El conjunto de datos MNIST ya contiene datos de entrenamiento y de prueba. Hay 55.000 puntos de datos de entrenamiento y 10.000 puntos de datos de prueba.\n",
        "\n",
        "Cada punto de datos MNIST tiene una imagen de un dígito escrito a mano y\n",
        "una etiqueta correspondiente (un número 0-9 que identifica la imagen)\n",
        "Llamaremos a las imágenes, que serán la entrada de nuestra red neuronal, X y a sus correspondientes etiquetas Y.\n",
        "\n",
        "Vamos a querer que nuestras etiquetas sean vectores de un solo punto, es decir, vectores que contienen mayoritariamente 0 y un 1. Es más fácil ver esto en un ejemplo. Como un vector de un solo golpe, el número 0 se representa como [1, 0, 0, 0, 0, 0, 0, 0, 0], y 4 se representa como [0, 0, 0, 0, 1, 0, 0, 0, 0].\n",
        "\n",
        "\n",
        "# Datos aplanados (Flatten)\n",
        "Para este ejemplo, utilizaremos datos aplanados o una representación de las imágenes MNIST en una dimensión en lugar de dos. Así, cada imagen de números escritos a mano, que tiene 28x28 píxeles, se representará como una matriz unidimensional de 784 valores de píxeles.\n",
        "\n",
        "El aplanamiento de los datos elimina la información sobre la estructura 2D de la imagen, pero simplifica nuestros datos para que todos los datos de entrenamiento puedan estar contenidos en una matriz cuya forma es [55000, 784]; la primera dimensión es el número de imágenes de entrenamiento y la segunda el número de píxeles de cada imagen. Este es el tipo de datos que es fácil de analizar utilizando una red neuronal simple."
      ]
    },
    {
      "cell_type": "code",
      "metadata": {
        "id": "aVetL8D9uCZl"
      },
      "source": [
        "# Cargamos los datos de train y test\n",
        "(trainX, trainY), (testX, testY) = mnist.load_data()"
      ],
      "execution_count": null,
      "outputs": []
    },
    {
      "cell_type": "markdown",
      "metadata": {
        "id": "9sDfwLvYvReo"
      },
      "source": [
        "**Introducir el código necesario para visualizar el tamaño de los datos obtenidos**"
      ]
    },
    {
      "cell_type": "code",
      "metadata": {
        "id": "nhz-eLjEujno"
      },
      "source": [
        ""
      ],
      "execution_count": null,
      "outputs": []
    },
    {
      "cell_type": "markdown",
      "metadata": {
        "id": "pPZxh30KvbyM"
      },
      "source": [
        "# **Visualizar los datos de entrenamiento**\n",
        "A continuación se presenta una función que le ayudará a visualizar los datos de MNIST. Al pasar el índice de un ejemplo de entrenamiento, la función show_digit mostrará esa imagen de entrenamiento junto con su correspondiente etiqueta en el título."
      ]
    },
    {
      "cell_type": "code",
      "metadata": {
        "colab": {
          "base_uri": "https://localhost:8080/",
          "height": 281
        },
        "id": "NOrVb4NzvrPY",
        "outputId": "7d811179-f37c-4be1-f896-6b930129e547"
      },
      "source": [
        "#Función para visualizar los datos que acabamos de cargar\n",
        "def display_digit(index):\n",
        "    label = trainY[index].argmax(axis=0)\n",
        "    # Reshape 784 array into 28x28 image\n",
        "    image = trainX[index].reshape([28,28])\n",
        "    plt.title('Training data, index: %d,  Label: %d' % (index, label))\n",
        "    plt.imshow(image, cmap='gray_r')\n",
        "    plt.show()\n",
        "    \n",
        "# Visualizamos el dígito que queramos pasando una posicióndel array\n",
        "display_digit(2)"
      ],
      "execution_count": null,
      "outputs": [
        {
          "output_type": "display_data",
          "data": {
            "image/png": "[encoded data removed]",
            "text/plain": [
              "<Figure size 432x288 with 1 Axes>"
            ]
          },
          "metadata": {
            "needs_background": "light"
          }
        }
      ]
    },
    {
      "cell_type": "markdown",
      "metadata": {
        "id": "usFaftm6wD_P"
      },
      "source": [
        "# **Construir la red**\n",
        "Keras te permite construir la red definiendo las capas de la misma.\n",
        "\n",
        "Para este ejemplo, hay que definir:\n",
        "  \n",
        "\n",
        "1.   La capa de entrada, que indica a la red el número de entradas que debe esperar para cada dato MNIST.\n",
        "2.   Las capas ocultas, que reconocen patrones en los datos y conectan la entrada con la capa de salida\n",
        "3.   La capa de salida, que define cómo la red aprende y emite una etiqueta para una imagen determinada.\n",
        "\n",
        "\n",
        "Empecemos por la capa de entrada; para definir la capa de entrada, se definirá el tipo de datos que espera la red. Por ejemplo:\n",
        "\n",
        "\n",
        "```\n",
        "model = Sequential()\n",
        "model.add(keras.Input(shape=(100,)))\n",
        "```\n",
        "\n",
        "\n",
        "\n",
        "\n",
        "crearía una red con 100 entradas, tener en cuenta que esta definición es para un modelo secuencial. **El número de entradas de su red debe coincidir con el tamaño de sus datos**. En este ejemplo, estamos utilizando vectores largos de 784 elementos para codificar nuestros datos de entrada, por lo que necesitamos 784 unidades de entrada."
      ]
    },
    {
      "cell_type": "markdown",
      "metadata": {
        "id": "vU55P7RRw-TN"
      },
      "source": [
        "# **Añadir capas**\n",
        "Para añadir nuevas capas ocultas, se utiliza:\n",
        "\n",
        "`model.add(Dense(128, activation='relu'))`\n",
        "\n",
        "Esto añade una capa totalmente conectada (fully connected, dense o MLP) donde cada unidad (o nodo) de la capa anterior está conectada a cada unidad de esta capa. El primer argumento establece el número de unidades en la capa, y establecer la función de activación con la palabra clave activation. Puedes seguir añadiendo capas a tu red llamando repetidamente.\n",
        "\n",
        "Luego, para establecer cómo se entrena la red, utilice:\n",
        "\n",
        "`model.compile(optimizer='sgd', learning_rate=0.1,loss='categorical_crossentropy')`\n",
        "\n",
        "De nuevo, esto es pasar la red que has estado construyendo. Las palabras clave \n",
        "optimizer establece el método de entrenamiento, aquí el descenso de gradiente estocástico learning_rate es la tasa de aprendizaje y loss determina cómo se calcula el error de la red. En este ejemplo, con entropía cruzada categórica."
      ]
    },
    {
      "cell_type": "code",
      "metadata": {
        "id": "HoxX2CS0vzwq"
      },
      "source": [
        "# Nuestro modelo\n",
        "def build_model():\n",
        "    # Con esta linea se resetean todos los parametros y variables\n",
        "    tf.reset_default_graph()\n",
        "    \n",
        "    #### Your code ####\n",
        "\n",
        "\n",
        "\n",
        "    \n",
        "    return model"
      ],
      "execution_count": null,
      "outputs": []
    },
    {
      "cell_type": "markdown",
      "metadata": {
        "id": "CYw1byIny9PU"
      },
      "source": [
        "# **Entrenamiento de la red**\n",
        "Ahora que hemos construido la red, guardada como variable modelo, podemos ajustarla a los datos. Para ello utilizamos el método model.fit. Se pasan las características de entrenamiento trainX y los objetivos de entrenamiento trainY. También puedes establecer el tamaño del batch y el número de epochs con las palabras clave batch_size y epochs, respectivamente.\n",
        "\n",
        "\n",
        "\n",
        "```\n",
        "Model.fit( x=None, y=None, batch_size=None, epochs=1, verbose=\"auto\")\n",
        "```\n",
        "\n",
        "\n",
        "\n",
        "\n",
        "Muy pocos epochs no permiten que la red termine de entrenar, y demasiadas tardan mucho tiempo en ejecutarse. Elija con cuidado."
      ]
    },
    {
      "cell_type": "code",
      "metadata": {
        "id": "oS_HfWvA2YBc"
      },
      "source": [
        ""
      ],
      "execution_count": null,
      "outputs": []
    },
    {
      "cell_type": "markdown",
      "metadata": {
        "id": "zf672cs82bmw"
      },
      "source": [
        "\n",
        "# **Testing**\n",
        "\n",
        "Una vez que estés satisfecho con el resultado del entrenamiento y la precisión, puedes ejecutar la red en el conjunto de datos de test para medir su rendimiento. Recuerda que sólo debes hacer esto después de haber realizado el entrenamiento y estar satisfecho con los resultados.\n",
        "\n",
        "Un buen resultado será superior al 95% de precisión. Se sabe que algunos modelos sencillos alcanzan una precisión del 99,7%."
      ]
    },
    {
      "cell_type": "code",
      "metadata": {
        "id": "GtqwCVLL24Vq"
      },
      "source": [
        "# Comparar los resultados obtenidos de la predicción del modelo con las clases reales \n",
        "\n",
        "# HAY QUE AJUSTAR ESTA LÍNEA\n",
        "# Con la función argmax lo que hacemos es obtener el índice con mayor valor del array (en este caso de un array [ 0  0.2  0.2 0.1 0.5] obtendriamos un 4)\n",
        "predictions = np.array(model.predict(testX)).argmax(axis=1)\n",
        "\n",
        "# Igual ocurre con las clases reales, lo traducimos de array a valor numérico y sacamos la media de aciertos\n",
        "actual = testY.argmax(axis=1)\n",
        "test_accuracy = np.mean(predictions == actual, axis=0)\n",
        "\n",
        "# Print out the result\n",
        "print(\"Test accuracy: \", test_accuracy)"
      ],
      "execution_count": null,
      "outputs": []
    }
  ]
}